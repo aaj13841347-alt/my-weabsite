{
 "cells": [
  {
   "cell_type": "code",
   "execution_count": 39,
   "id": "3d99de79-5684-46af-a1fb-e8aeb07c00d2",
   "metadata": {},
   "outputs": [
    {
     "name": "stdout",
     "output_type": "stream",
     "text": [
      "10\n",
      "hi my name is armit\n"
     ]
    }
   ],
   "source": [
    "x = 10\n",
    "y = \"hi my name is armit\"\n",
    "\n",
    "print(x)\n",
    "print(y)\n",
    " # THIS IS A COMMENT\n",
    "\n",
    "\n"
   ]
  },
  {
   "cell_type": "code",
   "execution_count": 67,
   "id": "a27891e7-47f3-4dd8-986c-0aa6e607cb15",
   "metadata": {},
   "outputs": [
    {
     "name": "stdout",
     "output_type": "stream",
     "text": [
      "5\n",
      "ffff\n",
      "ffff\n"
     ]
    }
   ],
   "source": [
    "c= 5   \n",
    "print(c)\n",
    "c= \"ffff\" \n",
    "print(c)\n",
    "print(c)"
   ]
  },
  {
   "cell_type": "code",
   "execution_count": 63,
   "id": "a510cdb5-77a0-4007-a4f6-cbf81127880d",
   "metadata": {},
   "outputs": [
    {
     "name": "stdout",
     "output_type": "stream",
     "text": [
      "4\n",
      "4.0\n",
      "4\n"
     ]
    }
   ],
   "source": [
    "x= str(4)  # x will be '6'\n",
    "s= float(4) #s will be 6.0\n",
    "d= int (4) #d will be 6\n",
    "print(x)\n",
    "print(s)\n",
    "print(d)"
   ]
  },
  {
   "cell_type": "code",
   "execution_count": 70,
   "id": "e5ad11d9-5f8c-4461-a793-4ff42cd720d7",
   "metadata": {},
   "outputs": [
    {
     "name": "stdout",
     "output_type": "stream",
     "text": [
      "<class 'str'>\n",
      "<class 'int'>\n",
      "<class 'float'>\n"
     ]
    }
   ],
   "source": [
    "x= 5\n",
    "y= \"jhon\"\n",
    "z= 5.0\n",
    "print(type(y))\n",
    "print(type(x))\n",
    "print(type(z))"
   ]
  },
  {
   "cell_type": "code",
   "execution_count": 10,
   "id": "c486d171-0e73-471e-9ff7-2355384f9503",
   "metadata": {},
   "outputs": [
    {
     "name": "stdout",
     "output_type": "stream",
     "text": [
      "John\n",
      "John\n",
      "John\n",
      "John\n",
      "John\n",
      "John\n"
     ]
    }
   ],
   "source": [
    "myvar = \"John\"\n",
    "my_var = \"John\"\n",
    "_my_var = \"John\"\n",
    "myVar = \"John\"\n",
    "MYVAR = \"John\"\n",
    "myvar2 = \"John\"\n",
    "\n",
    "\n",
    "print(myvar)\n",
    "print(my_var)\n",
    "print(_my_var)\n",
    "print(myVar)\n",
    "print(MYVAR)\n",
    "print(myvar2)\n"
   ]
  },
  {
   "cell_type": "code",
   "execution_count": 6,
   "id": "0ab6bbd8-6f82-4c55-8b9a-eff12657182c",
   "metadata": {},
   "outputs": [
    {
     "name": "stdout",
     "output_type": "stream",
     "text": [
      "2\n",
      "jhon\n"
     ]
    }
   ],
   "source": [
    "b=2\n",
    "B=\"jhon\"\n",
    "# B will not overwrite b\n",
    "print(b)\n",
    "print(B)"
   ]
  },
  {
   "cell_type": "code",
   "execution_count": 11,
   "id": "644bf972-e847-45d2-9da8-eaca58bb318d",
   "metadata": {},
   "outputs": [
    {
     "name": "stdout",
     "output_type": "stream",
     "text": [
      "Orange\n",
      "Banana\n",
      "Cherry\n"
     ]
    }
   ],
   "source": [
    "x, y, z = \"Orange\", \"Banana\", \"Cherry\"\n",
    "\n",
    "print(x)\n",
    "print(y)\n",
    "print(z)\n"
   ]
  },
  {
   "cell_type": "code",
   "execution_count": 21,
   "id": "b6424464-70f4-4333-9d68-84489043b1e5",
   "metadata": {},
   "outputs": [
    {
     "name": "stdout",
     "output_type": "stream",
     "text": [
      "Orange , bnanans\n",
      "Orange , bnanans\n",
      "Orange , bnanans\n"
     ]
    }
   ],
   "source": [
    "x = y = z = \"Orange , bnanans\"\n",
    "\n",
    "print(x)\n",
    "print(y)\n",
    "print(z)\n"
   ]
  },
  {
   "cell_type": "code",
   "execution_count": 1,
   "id": "3f7abf3c-b5a2-4701-b3b5-efbc3260cb31",
   "metadata": {},
   "outputs": [
    {
     "name": "stdout",
     "output_type": "stream",
     "text": [
      "apple\n",
      "banana\n",
      "cherry\n",
      "['apple', 'banana', 'cherry']\n"
     ]
    }
   ],
   "source": [
    "fruits = [\"apple\", \"banana\", \"cherry\"]\n",
    "x, y, z = fruits\n",
    "\n",
    "print(x)\n",
    "print(y)\n",
    "print(z)\n",
    "print(fruits)"
   ]
  },
  {
   "cell_type": "code",
   "execution_count": 1,
   "id": "251e3caf-91d2-4c31-8a94-96291c10e5d9",
   "metadata": {},
   "outputs": [
    {
     "name": "stdout",
     "output_type": "stream",
     "text": [
      " miyadsaat9\n"
     ]
    }
   ],
   "source": [
    "a=\"saat9\"\n",
    "def myfunc():\n",
    "      print(\" miyad\" + a)\n",
    "myfunc()"
   ]
  },
  {
   "cell_type": "code",
   "execution_count": 42,
   "id": "c9f68829-bba1-4cb1-b6a6-4bff52468be4",
   "metadata": {},
   "outputs": [
    {
     "name": "stdout",
     "output_type": "stream",
     "text": [
      "miyad baalii\n",
      " miyad saat9\n"
     ]
    }
   ],
   "source": [
    "a=\"saat9\"\n",
    "def myfunc():\n",
    "    a=\"alii\"\n",
    "    print(\"miyad ba\" + a)\n",
    "myfunc()\n",
    "\n",
    "print(\" miyad \" + a)"
   ]
  },
  {
   "cell_type": "code",
   "execution_count": 1,
   "id": "975ed1d4-43d5-4466-a029-96a938d3b2af",
   "metadata": {},
   "outputs": [
    {
     "name": "stdout",
     "output_type": "stream",
     "text": [
      " four is smaller than six\n",
      "hiii  brooo\n",
      "hello baby\n",
      "5\n",
      "5\n",
      "5.0\n"
     ]
    }
   ],
   "source": [
    " if 4 < 6:\n",
    "    print(\" four is smaller than six\")\n",
    "x=\"hello\"\n",
    "def myfunc():\n",
    "    x=\"hiii\"\n",
    "    print(x +\" \"  ,\"brooo\" )\n",
    "myfunc()\n",
    " print (x +\" \" \"baby\")\n",
    "x= str (5) #x will be '5'\n",
    "a= int(5) #a will be 5\n",
    "z= float(5) #z will be 5.0\n",
    "print(x)\n",
    "print(a)\n",
    "print(z)"
   ]
  },
  {
   "cell_type": "code",
   "execution_count": 15,
   "id": "05477852-fa6a-4b32-81ce-0e59e5f3d18a",
   "metadata": {},
   "outputs": [
    {
     "name": "stdout",
     "output_type": "stream",
     "text": [
      "python isgood\n"
     ]
    }
   ],
   "source": [
    "def myfunc(): \n",
    "  global x\n",
    "  x =\"good\"\n",
    "\n",
    "myfunc()\n",
    "print(\"python is\" + x)"
   ]
  },
  {
   "cell_type": "code",
   "execution_count": 17,
   "id": "6cf90116-27d8-4245-b2e5-556832027504",
   "metadata": {},
   "outputs": [
    {
     "name": "stdout",
     "output_type": "stream",
     "text": [
      "Python is  easy\n"
     ]
    }
   ],
   "source": [
    "x = \"awesome\"\n",
    "\n",
    "def myfunc():\n",
    "  global x\n",
    "  x = \"easy\"\n",
    "\n",
    "myfunc()\n",
    "\n",
    "print(\"Python is \",\"\" + x)\n"
   ]
  },
  {
   "cell_type": "code",
   "execution_count": 37,
   "id": "bec3e316-118b-42ef-9a37-c8cc68135100",
   "metadata": {},
   "outputs": [
    {
     "name": "stdout",
     "output_type": "stream",
     "text": [
      "3\n",
      "secrt\n",
      "<class 'dict'>\n"
     ]
    }
   ],
   "source": [
    "thisdict={\"model\":\"artmis\",\"brand\":\"secrt\",\"age\":\"25\"}\n",
    "print(len(thisdict))\n",
    "print(thisdict[\"brand\"])\n",
    "print (type(thisdict))"
   ]
  },
  {
   "cell_type": "code",
   "execution_count": 41,
   "id": "13786537-8807-415c-bbda-7422e0407b1e",
   "metadata": {},
   "outputs": [
    {
     "name": "stdout",
     "output_type": "stream",
     "text": [
      "3\n",
      "Norway\n",
      "<class 'dict'>\n"
     ]
    }
   ],
   "source": [
    "thisdict = dict(name = \"John\", age = 36, country = \"Norway\")\n",
    "\n",
    "print(len(thisdict))\n",
    "print(thisdict[\"country\"])\n",
    "print(type(thisdict))"
   ]
  },
  {
   "cell_type": "code",
   "execution_count": 43,
   "id": "c876c1ac-19b7-4077-8d60-146b916f033c",
   "metadata": {},
   "outputs": [
    {
     "name": "stdout",
     "output_type": "stream",
     "text": [
      "['apple', 'banana', 'cherry']\n",
      "['apple', 'banana', 'cherry', 'apple', 'cherry']\n"
     ]
    }
   ],
   "source": [
    "thislist = list((\"apple\", \"banana\", \"cherry\"))\n",
    "print(thislist)\n",
    "\n",
    "thislist = [\"apple\", \"banana\", \"cherry\", \"apple\", \"cherry\"]\n",
    "\n",
    "print(thislist)\n"
   ]
  },
  {
   "cell_type": "code",
   "execution_count": 44,
   "id": "8f645faf-2f02-4126-ae60-86aa69d34168",
   "metadata": {},
   "outputs": [
    {
     "name": "stdout",
     "output_type": "stream",
     "text": [
      "('apple', 'banana', 'cherry')\n",
      "('apple', 'banana', 'cherry')\n"
     ]
    }
   ],
   "source": [
    "thistuple = (\"apple\", \"banana\", \"cherry\")\n",
    "print(thistuple)\n",
    "\n",
    "thistuple = tuple((\"apple\", \"banana\", \"cherry\"))\n",
    "print(thistuple)\n"
   ]
  },
  {
   "cell_type": "code",
   "execution_count": 4,
   "id": "1356c142-6c7f-4b9a-b5f1-0bf94e8eaee9",
   "metadata": {},
   "outputs": [
    {
     "name": "stdout",
     "output_type": "stream",
     "text": [
      "l\n",
      "a\n",
      "p\n",
      "p\n",
      "l\n",
      "e\n"
     ]
    }
   ],
   "source": [
    "a=\"hello\"\n",
    "print(a[2])\n",
    "for x in \"apple\":\n",
    "   print(x)"
   ]
  },
  {
   "cell_type": "code",
   "execution_count": 26,
   "id": "ff8ea7b7-72b5-4803-b156-c25aa945b383",
   "metadata": {},
   "outputs": [
    {
     "name": "stdout",
     "output_type": "stream",
     "text": [
      "yes, alii is in present\n"
     ]
    }
   ],
   "source": [
    "a=\"hello my name is ali\"\n",
    "if \"ali\" not in a:\n",
    " print(\"no,ali is not peresent\")\n",
    "if \"ali\" in a:\n",
    "    print(\"yes, alii is in present\")"
   ]
  },
  {
   "cell_type": "code",
   "execution_count": 53,
   "id": "f50c6917-0ef1-43a0-9eee-f88d7c175304",
   "metadata": {},
   "outputs": [
    {
     "name": "stdout",
     "output_type": "stream",
     "text": [
      "lo\n",
      "el\n",
      "Hello\n",
      "wor\n"
     ]
    }
   ],
   "source": [
    "a=\"hello\"\n",
    "print(a[3:])\n",
    "a=\"hello\"    \n",
    "print(a[1:3])\n",
    "b = \"Hello, World!\"\n",
    "print(b[:5])\n",
    "c= \"hello, world\"\n",
    "print(c[-5:-2])\n"
   ]
  },
  {
   "cell_type": "code",
   "execution_count": 63,
   "id": "5f9351d1-7eaf-4c3c-bc67-6222d27e8dd8",
   "metadata": {},
   "outputs": [
    {
     "name": "stdout",
     "output_type": "stream",
     "text": [
      "HELLO\n",
      "hello, world!\n",
      "Hello, World\n"
     ]
    }
   ],
   "source": [
    "a=\"hello\"\n",
    "print(a.upper())\n",
    "a = \"Hello, World!\"\n",
    "print(a.lower())\n",
    "a = \" Hello, World \"\n",
    "print(a.strip())\n",
    "a=\"hello\"\n",
    "print(a.replace(\"hello\" , \"killl\"))\n"
   ]
  },
  {
   "cell_type": "code",
   "execution_count": 8,
   "id": "636ed645-d372-493d-9062-717ebb24208b",
   "metadata": {},
   "outputs": [
    {
     "name": "stdout",
     "output_type": "stream",
     "text": [
      "My name is John, I am 36\n",
      "i have 50 dollers\n",
      "i have 50.00 dollers\n",
      "The price is 1180 dollars\n"
     ]
    }
   ],
   "source": [
    "age = 36\n",
    "txt = f\"My name is John, I am {age}\"\n",
    "print(txt)\n",
    "price= 50\n",
    "txt= f\"i have {price} dollers\"\n",
    "print(txt)\n",
    "price= 50\n",
    "txt= f\"i have {price:.2f} dollers\"\n",
    "print(txt)\n",
    "txt = f\"The price is {20 * 59} dollars\"\n",
    "print(txt)\n"
   ]
  },
  {
   "cell_type": "code",
   "execution_count": 26,
   "id": "7f81486b-3c1b-4149-bb0a-0235390375b2",
   "metadata": {},
   "outputs": [
    {
     "name": "stdout",
     "output_type": "stream",
     "text": [
      " this child is fat his  5  whith and 2 years\n"
     ]
    }
   ],
   "source": [
    "child=2\n",
    "whith=5\n",
    "txt= f\" this child is fat his  {whith}  whith and {child} years\"\n",
    "print(txt)\n"
   ]
  },
  {
   "cell_type": "code",
   "execution_count": 2,
   "id": "d062a32e-4ba2-4385-97a0-1e65b7b21c9a",
   "metadata": {},
   "outputs": [
    {
     "name": "stdout",
     "output_type": "stream",
     "text": [
      "amrtmis omad\n",
      " no, 'ali is not' preseant\n",
      "rtmis\n"
     ]
    }
   ],
   "source": [
    " x=\"amrtmis\"\n",
    " def myfunc():\n",
    "     a=x + \" \" + \"omad\"\n",
    "     print(a)\n",
    "myfunc()\n",
    " if \"ali\" in x :\n",
    "   print(\" yes, 'ali is' present\")\n",
    " else:\n",
    "   print(\" no, 'ali is not' preseant\")\n",
    "   print(x[2:])"
   ]
  },
  {
   "cell_type": "code",
   "execution_count": 51,
   "id": "e618c4e4-018e-46f8-a466-76c341268676",
   "metadata": {},
   "outputs": [
    {
     "name": "stdout",
     "output_type": "stream",
     "text": [
      "False\n",
      "True\n",
      "['slm', 'man', 'armita']\n"
     ]
    }
   ],
   "source": [
    "a= [\"slm\" ,\"man\" ,\"armita\" ,\"hastm\"]\n",
    "print( \"armita\" not in a)\n",
    "print(\" anita\" not in a)\n",
    "print(a[0:3])"
   ]
  },
  {
   "cell_type": "code",
   "execution_count": 1,
   "id": "7f184873-e05e-4f49-b370-bd3fa356eaf6",
   "metadata": {},
   "outputs": [
    {
     "name": "stdout",
     "output_type": "stream",
     "text": [
      "b is greater than a\n"
     ]
    }
   ],
   "source": [
    "a = 33\n",
    "b = 200\n",
    "\n",
    "if b > a:\n",
    "  print(\"b is greater than a\")\n",
    "#you will get an error"
   ]
  },
  {
   "cell_type": "code",
   "execution_count": 2,
   "id": "c0fdfc88-6f72-4fd8-8cba-b089f8633c61",
   "metadata": {},
   "outputs": [
    {
     "name": "stdout",
     "output_type": "stream",
     "text": [
      "['apple', 'blackcurrant', 'watermwlon']\n",
      "['apple', 'banana', 'watermelon', 'cherry']\n",
      "['apple', 'banana', 'cherry', 'orange']\n",
      "['apple', 'banana', 'cherry', 'mango', 'pineapple', 'papaya']\n",
      "['apple', 'cherry']\n"
     ]
    }
   ],
   "source": [
    "thislist = [\"apple\", \"banana\", \"cherry\"]\n",
    "thislist[1:3] = \"blackcurrant\",\"watermwlon\"\n",
    "\n",
    "print(thislist)\n",
    "\n",
    "thislist = [\"apple\", \"banana\", \"cherry\"]\n",
    "\n",
    "thislist.insert(2, \"watermelon\")\n",
    "\n",
    "print(thislist) \n",
    "\n",
    "thislist = [\"apple\", \"banana\", \"cherry\"]\n",
    "\n",
    "thislist.append(\"orange\")\n",
    "\n",
    "print(thislist)\n",
    "thislist = [\"apple\", \"banana\", \"cherry\"]\n",
    "tropical = [\"mango\", \"pineapple\", \"papaya\"]\n",
    "\n",
    "thislist.extend(tropical)\n",
    "\n",
    "print(thislist)\n",
    "thislist = [\"apple\", \"banana\", \"cherry\"]\n",
    "thislist.remove(\"banana\")\n",
    "print(thislist)\n",
    "\n"
   ]
  },
  {
   "cell_type": "code",
   "execution_count": 12,
   "id": "da341051-b0c1-44e2-9cec-bda061fa8593",
   "metadata": {},
   "outputs": [
    {
     "name": "stdout",
     "output_type": "stream",
     "text": [
      "['banana', 'portagal']\n",
      "['appleb', 'banana']\n",
      "['narangi', 'portgal']\n",
      "['narangi', 'portgal']\n",
      "['apple', 'narangi', 'portgal']\n",
      "[0, 1, 2, 3, 4, 5, 6, 7, 8]\n",
      "[0, 1, 2, 3, 4, 5, 6, 7, 8, 9]\n",
      "['APPLE', 'NARANGI', 'PORTGAL']\n",
      "['apple', 'narangi', 'portgal']\n",
      "['cherry', 'cherry', 'cherry']\n"
     ]
    }
   ],
   "source": [
    "fruits=[\"appleb\",\"banana\",\"portagal\"]\n",
    "newlist=[]\n",
    "for x in fruits:\n",
    "    if x != \"appleb\":\n",
    "       newlist.append(x)\n",
    "print(newlist)\n",
    "\n",
    "fruits=[\"appleb\",\"banana\",\"portagal\"]\n",
    "newlist=[]\n",
    "for x in fruits:\n",
    "     if \"b\" in x:\n",
    "         newlist.append(x)\n",
    "print(newlist)\n",
    "\n",
    "fruits=[\"apple\",\"narangi\",\"portgal\"]\n",
    "newlist=[x for x in fruits if x != \"apple\"]\n",
    "nelists=[x for x in fruits if \"r\" in x]\n",
    "newliste=[x for x in fruits]\n",
    "newlista=[x for x in range(10) if x < 9]\n",
    "newlists=[x for x in range(10)]\n",
    "newlistb=[x.upper() for x in fruits]\n",
    "newlistaa=[x.lower() for x in fruits]\n",
    "newlistss=['cherry' for x in fruits]\n",
    "print(newlist)\n",
    "print(nelists)\n",
    "print(newliste)\n",
    "print(newlista)\n",
    "print(newlists)\n",
    "print(newlistb)\n",
    "print(newlistaa)\n",
    "print(newlistss)"
   ]
  },
  {
   "cell_type": "code",
   "execution_count": 1,
   "id": "ea424310-b618-48ab-a9d6-cbdd7ca19023",
   "metadata": {},
   "outputs": [
    {
     "name": "stdout",
     "output_type": "stream",
     "text": [
      "['banana', 'kiwi', 'mango', 'orange', 'pineapple']\n",
      "['1', '2', '3', '4', '5']\n",
      "['1', '1', '2', '2', '4']\n",
      "[100, 82, 65, 50, 23]\n"
     ]
    }
   ],
   "source": [
    "thislist = [\"orange\", \"mango\", \"kiwi\", \"pineapple\", \"banana\"]\n",
    "\n",
    "thislist.sort()\n",
    "\n",
    "print(thislist)\n",
    "thislist = [\"3\", \"4\", \"1\", \"2\", \"5\"]\n",
    "\n",
    "thislist.sort()\n",
    "\n",
    "print(thislist)\n",
    "thislist = [\"4\", \"2\", \"1\", \"2\", \"1\"]\n",
    "\n",
    "thislist.sort(reverse=False)\n",
    "\n",
    "print(thislist)\n",
    "thislist = [100, 50, 65, 82, 23]\n",
    "\n",
    "thislist.sort(reverse = True)\n",
    "\n",
    "print(thislist)\n"
   ]
  },
  {
   "cell_type": "code",
   "execution_count": 3,
   "id": "5802d87a-183f-4ff9-9a48-2ed9df16fca7",
   "metadata": {},
   "outputs": [
    {
     "name": "stdout",
     "output_type": "stream",
     "text": [
      "['apple', 'banana', 'cherry']\n",
      "['apple', 'banana', 'cherry']\n"
     ]
    }
   ],
   "source": [
    "thislist = [\"apple\", \"banana\", \"cherry\"]\n",
    "mylist = thislist.copy()\n",
    "print(mylist)\n",
    "thislist = [\"apple\", \"banana\", \"cherry\"]\n",
    "mylist = list(thislist)\n",
    "print(mylist)\n",
    "thislist = [\"apple\", \"banana\", \"cherry\"]\n",
    "mylist = thislist[:]\n",
    "print(mylist)\n"
   ]
  },
  {
   "cell_type": "code",
   "execution_count": 17,
   "id": "cc45ab8b-a6c1-4b7e-a824-7028983e2903",
   "metadata": {},
   "outputs": [
    {
     "name": "stdout",
     "output_type": "stream",
     "text": [
      "('apple', 'kiwi', 'cherry')\n",
      "('apple', 'orange', 'mango')\n",
      "('apple', 'banana', 'cherry', 'orange')\n"
     ]
    }
   ],
   "source": [
    "\n",
    "\n",
    "x = (\"apple\", \"banana\", \"cherry\")\n",
    "y = list(x)\n",
    "y[1] = \"kiwi\"\n",
    "x = tuple(y)\n",
    "\n",
    "print(x)\n",
    "r=(\"apple\",\"orange\",\"banana\")\n",
    "x = list(r)\n",
    "x[2] = \"mango\"\n",
    "r = tuple(x)\n",
    "\n",
    "print(r)\n",
    "thistuple = (\"apple\", \"banana\", \"cherry\")\n",
    "y = (\"orange\",)\n",
    "thistuple += y\n",
    "\n",
    "print(thistuple)\n"
   ]
  },
  {
   "cell_type": "code",
   "execution_count": 15,
   "id": "81989631-3ab5-400e-964a-fa361d382c23",
   "metadata": {},
   "outputs": [
    {
     "name": "stdout",
     "output_type": "stream",
     "text": [
      "('cherry', 'strawberry', 'raspberry')\n",
      "apple\n",
      "kiwi\n",
      "['cherry', 'strawberry', 'raspberry', 'orange']\n"
     ]
    }
   ],
   "source": [
    "thistuple = (\"apple\" , \"banana\" , \"cherry\" , \"strawberry\" , \"raspberry\")\n",
    "y= list(thistuple)\n",
    "y[1] = \"kiwi\"\n",
    "thistuple = tuple(y)\n",
    "c = list(thistuple)\n",
    "c.append(\"orange\")\n",
    "thistuple= tuple(c)\n",
    "(green , yellow , *red) = thistuple\n",
    "print(thistuple[2:5])\n",
    "print(green)\n",
    "print(yellow)\n",
    "print(red)"
   ]
  },
  {
   "cell_type": "code",
   "execution_count": 14,
   "id": "153da9de-6c41-4f48-8711-49df31823f6b",
   "metadata": {},
   "outputs": [
    {
     "name": "stdout",
     "output_type": "stream",
     "text": [
      "set()\n"
     ]
    }
   ],
   "source": [
    "thisset={\"apple\",\"banana\",\"cherry\"}\n",
    "thisx={\"orange\",\"green apple\"}\n",
    "thisset.add(\"gilas\")\n",
    "thisset.update(thisx)\n",
    "thisset.remove(\"apple\")\n",
    "thisset.discard(\"green apple\")\n",
    "thisset.clear()\n",
    "print(thisset)"
   ]
  },
  {
   "cell_type": "code",
   "execution_count": 16,
   "id": "83b1015d-a80e-48a1-9f90-2871e0a68a30",
   "metadata": {},
   "outputs": [
    {
     "name": "stdout",
     "output_type": "stream",
     "text": [
      "{'orang', 'cherry', 'apple', 'banana'}\n",
      "{'apple', 'banana'}\n",
      "{'orang'}\n",
      "{'orang', 'cherry'}\n"
     ]
    }
   ],
   "source": [
    "thisset={\"banana\",\"apple\",\"orang\"}\n",
    "thisset2={\"banana\",\"apple\",\"cherry\"}\n",
    "thisset3=thisset.union(thisset2)\n",
    "thisset4=thisset.intersection(thisset2)\n",
    "thisset5=thisset.difference(thisset2)\n",
    "thisset6=thisset.symmetric_difference(thisset2)\n",
    "print(thisset3)\n",
    "print(thisset4)\n",
    "print(thisset5)\n",
    "print(thisset6)\n"
   ]
  },
  {
   "cell_type": "code",
   "execution_count": 36,
   "id": "46fabca8-7a01-412a-8cc8-c7cdf6cdb53d",
   "metadata": {},
   "outputs": [
    {
     "name": "stdout",
     "output_type": "stream",
     "text": [
      "i eat pitza\n"
     ]
    }
   ],
   "source": [
    "eat = 1\n",
    "drink = 2\n",
    "match eat:\n",
    "   case 1  | 2 | 3 if drink == 2:\n",
    "     print(\"i eat pitza\")\n",
    "   case  4 | 5| 6 if drink == 1:\n",
    "     print(\"i drink wather\")\n",
    "   case _:\n",
    "        print(\"no\")"
   ]
  },
  {
   "cell_type": "code",
   "execution_count": null,
   "id": "a4df4f42-8587-49e9-923e-6b58b56834ac",
   "metadata": {},
   "outputs": [],
   "source": []
  }
 ],
 "metadata": {
  "kernelspec": {
   "display_name": "Python 3 (ipykernel)",
   "language": "python",
   "name": "python3"
  },
  "language_info": {
   "codemirror_mode": {
    "name": "ipython",
    "version": 3
   },
   "file_extension": ".py",
   "mimetype": "text/x-python",
   "name": "python",
   "nbconvert_exporter": "python",
   "pygments_lexer": "ipython3",
   "version": "3.12.7"
  }
 },
 "nbformat": 4,
 "nbformat_minor": 5
}
